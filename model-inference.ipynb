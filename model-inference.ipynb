{
 "cells": [
  {
   "cell_type": "code",
   "execution_count": 2,
   "metadata": {
    "_cell_guid": "b1076dfc-b9ad-4769-8c92-a6c4dae69d19",
    "_uuid": "8f2839f25d086af736a60e9eeb907d3b93b6e0e5",
    "execution": {
     "iopub.execute_input": "2025-04-11T11:17:27.399814Z",
     "iopub.status.busy": "2025-04-11T11:17:27.399204Z",
     "iopub.status.idle": "2025-04-11T11:17:27.410786Z",
     "shell.execute_reply": "2025-04-11T11:17:27.409501Z",
     "shell.execute_reply.started": "2025-04-11T11:17:27.399780Z"
    },
    "trusted": true
   },
   "outputs": [
    {
     "name": "stdout",
     "output_type": "stream",
     "text": [
      "/kaggle/input/preprocessing-classes/preprocessing_utils.py\n",
      "/kaggle/input/house-prices-advanced-regression-techniques/sample_submission.csv\n",
      "/kaggle/input/house-prices-advanced-regression-techniques/data_description.txt\n",
      "/kaggle/input/house-prices-advanced-regression-techniques/train.csv\n",
      "/kaggle/input/house-prices-advanced-regression-techniques/test.csv\n",
      "/kaggle/input/pipeline/preprocessing_pipeline_final (1).pkl\n"
     ]
    }
   ],
   "source": [
    "# This Python 3 environment comes with many helpful analytics libraries installed\n",
    "# It is defined by the kaggle/python Docker image: https://github.com/kaggle/docker-python\n",
    "# For example, here's several helpful packages to load\n",
    "\n",
    "import numpy as np # linear algebra\n",
    "import pandas as pd # data processing, CSV file I/O (e.g. pd.read_csv)\n",
    "\n",
    "# Input data files are available in the read-only \"../input/\" directory\n",
    "# For example, running this (by clicking run or pressing Shift+Enter) will list all files under the input directory\n",
    "\n",
    "import os\n",
    "for dirname, _, filenames in os.walk('/kaggle/input'):\n",
    "    for filename in filenames:\n",
    "        print(os.path.join(dirname, filename))\n",
    "\n",
    "# You can write up to 20GB to the current directory (/kaggle/working/) that gets preserved as output when you create a version using \"Save & Run All\" \n",
    "# You can also write temporary files to /kaggle/temp/, but they won't be saved outside of the current session"
   ]
  },
  {
   "cell_type": "code",
   "execution_count": 3,
   "metadata": {
    "execution": {
     "iopub.execute_input": "2025-04-11T11:17:31.612037Z",
     "iopub.status.busy": "2025-04-11T11:17:31.611649Z",
     "iopub.status.idle": "2025-04-11T11:17:46.449266Z",
     "shell.execute_reply": "2025-04-11T11:17:46.448112Z",
     "shell.execute_reply.started": "2025-04-11T11:17:31.612005Z"
    },
    "trusted": true
   },
   "outputs": [
    {
     "name": "stdout",
     "output_type": "stream",
     "text": [
      "\u001b[2K   \u001b[90m━━━━━━━━━━━━━━━━━━━━━━━━━━━━━━━━━━━━━━━━\u001b[0m \u001b[32m260.1/260.1 kB\u001b[0m \u001b[31m17.1 MB/s\u001b[0m eta \u001b[36m0:00:00\u001b[0m\n",
      "\u001b[2K   \u001b[90m━━━━━━━━━━━━━━━━━━━━━━━━━━━━━━━━━━━━━━━━\u001b[0m \u001b[32m28.2/28.2 MB\u001b[0m \u001b[31m62.3 MB/s\u001b[0m eta \u001b[36m0:00:00\u001b[0m:00:01\u001b[0m00:01\u001b[0m\n",
      "\u001b[2K   \u001b[90m━━━━━━━━━━━━━━━━━━━━━━━━━━━━━━━━━━━━━━━━\u001b[0m \u001b[32m6.1/6.1 MB\u001b[0m \u001b[31m89.9 MB/s\u001b[0m eta \u001b[36m0:00:00\u001b[0m:00:01\u001b[0m\n",
      "\u001b[2K   \u001b[90m━━━━━━━━━━━━━━━━━━━━━━━━━━━━━━━━━━━━━━━━\u001b[0m \u001b[32m114.9/114.9 kB\u001b[0m \u001b[31m6.7 MB/s\u001b[0m eta \u001b[36m0:00:00\u001b[0m\n",
      "\u001b[2K   \u001b[90m━━━━━━━━━━━━━━━━━━━━━━━━━━━━━━━━━━━━━━━━\u001b[0m \u001b[32m85.0/85.0 kB\u001b[0m \u001b[31m5.7 MB/s\u001b[0m eta \u001b[36m0:00:00\u001b[0m\n",
      "\u001b[2K   \u001b[90m━━━━━━━━━━━━━━━━━━━━━━━━━━━━━━━━━━━━━━━━\u001b[0m \u001b[32m684.0/684.0 kB\u001b[0m \u001b[31m33.0 MB/s\u001b[0m eta \u001b[36m0:00:00\u001b[0m\n",
      "\u001b[2K   \u001b[90m━━━━━━━━━━━━━━━━━━━━━━━━━━━━━━━━━━━━━━━━\u001b[0m \u001b[32m95.2/95.2 kB\u001b[0m \u001b[31m5.7 MB/s\u001b[0m eta \u001b[36m0:00:00\u001b[0m\n",
      "\u001b[2K   \u001b[90m━━━━━━━━━━━━━━━━━━━━━━━━━━━━━━━━━━━━━━━━\u001b[0m \u001b[32m203.2/203.2 kB\u001b[0m \u001b[31m13.1 MB/s\u001b[0m eta \u001b[36m0:00:00\u001b[0m\n",
      "\u001b[2K   \u001b[90m━━━━━━━━━━━━━━━━━━━━━━━━━━━━━━━━━━━━━━━━\u001b[0m \u001b[32m62.3/62.3 kB\u001b[0m \u001b[31m3.4 MB/s\u001b[0m eta \u001b[36m0:00:00\u001b[0m\n",
      "\u001b[2K   \u001b[90m━━━━━━━━━━━━━━━━━━━━━━━━━━━━━━━━━━━━━━━━\u001b[0m \u001b[32m74.3/74.3 kB\u001b[0m \u001b[31m4.7 MB/s\u001b[0m eta \u001b[36m0:00:00\u001b[0m\n",
      "\u001b[2K   \u001b[90m━━━━━━━━━━━━━━━━━━━━━━━━━━━━━━━━━━━━━━━━\u001b[0m \u001b[32m72.0/72.0 kB\u001b[0m \u001b[31m4.7 MB/s\u001b[0m eta \u001b[36m0:00:00\u001b[0m\n",
      "\u001b[?25h\u001b[31mERROR: pip's dependency resolver does not currently take into account all the packages that are installed. This behaviour is the source of the following dependency conflicts.\n",
      "ydata-profiling 4.16.1 requires dacite>=1.8, but you have dacite 1.6.0 which is incompatible.\u001b[0m\u001b[31m\n",
      "\u001b[0m"
     ]
    }
   ],
   "source": [
    "!pip install dagshub mlflow --quiet"
   ]
  },
  {
   "cell_type": "code",
   "execution_count": 6,
   "metadata": {
    "execution": {
     "iopub.execute_input": "2025-04-11T11:18:01.692116Z",
     "iopub.status.busy": "2025-04-11T11:18:01.691452Z",
     "iopub.status.idle": "2025-04-11T11:18:09.082909Z",
     "shell.execute_reply": "2025-04-11T11:18:09.081841Z",
     "shell.execute_reply.started": "2025-04-11T11:18:01.692080Z"
    },
    "trusted": true
   },
   "outputs": [
    {
     "data": {
      "text/html": [
       "<pre style=\"white-space:pre;overflow-x:auto;line-height:normal;font-family:Menlo,'DejaVu Sans Mono',consolas,'Courier New',monospace\">                                       <span style=\"font-weight: bold\">❗❗❗ AUTHORIZATION REQUIRED ❗❗❗</span>                                        \n",
       "</pre>\n"
      ],
      "text/plain": [
       "                                       \u001b[1m❗❗❗ AUTHORIZATION REQUIRED ❗❗❗\u001b[0m                                        \n"
      ]
     },
     "metadata": {},
     "output_type": "display_data"
    },
    {
     "data": {
      "application/vnd.jupyter.widget-view+json": {
       "model_id": "",
       "version_major": 2,
       "version_minor": 0
      },
      "text/plain": [
       "Output()"
      ]
     },
     "metadata": {},
     "output_type": "display_data"
    },
    {
     "name": "stdout",
     "output_type": "stream",
     "text": [
      "\n",
      "\n",
      "Open the following link in your browser to authorize the client:\n",
      "https://dagshub.com/login/oauth/authorize?state=1175a2b0-5c7e-48b8-a701-e34a9197e788&client_id=32b60ba385aa7cecf24046d8195a71c07dd345d9657977863b52e7748e0f0f28&middleman_request_id=b75f2c86fd2c850f798a13e0682ffff9c7bd90e4a671ac43291b5935a41f06e7\n",
      "\n",
      "\n"
     ]
    },
    {
     "data": {
      "text/html": [
       "<pre style=\"white-space:pre;overflow-x:auto;line-height:normal;font-family:Menlo,'DejaVu Sans Mono',consolas,'Courier New',monospace\"></pre>\n"
      ],
      "text/plain": []
     },
     "metadata": {},
     "output_type": "display_data"
    },
    {
     "data": {
      "text/html": [
       "<pre style=\"white-space:pre;overflow-x:auto;line-height:normal;font-family:Menlo,'DejaVu Sans Mono',consolas,'Courier New',monospace\">Accessing as ekvirika\n",
       "</pre>\n"
      ],
      "text/plain": [
       "Accessing as ekvirika\n"
      ]
     },
     "metadata": {},
     "output_type": "display_data"
    },
    {
     "data": {
      "text/html": [
       "<pre style=\"white-space:pre;overflow-x:auto;line-height:normal;font-family:Menlo,'DejaVu Sans Mono',consolas,'Courier New',monospace\">Initialized MLflow to track repo <span style=\"color: #008000; text-decoration-color: #008000\">\"ekvirika/HousePrices\"</span>\n",
       "</pre>\n"
      ],
      "text/plain": [
       "Initialized MLflow to track repo \u001b[32m\"ekvirika/HousePrices\"\u001b[0m\n"
      ]
     },
     "metadata": {},
     "output_type": "display_data"
    },
    {
     "data": {
      "text/html": [
       "<pre style=\"white-space:pre;overflow-x:auto;line-height:normal;font-family:Menlo,'DejaVu Sans Mono',consolas,'Courier New',monospace\">Repository ekvirika/HousePrices initialized!\n",
       "</pre>\n"
      ],
      "text/plain": [
       "Repository ekvirika/HousePrices initialized!\n"
      ]
     },
     "metadata": {},
     "output_type": "display_data"
    }
   ],
   "source": [
    "import dagshub\n",
    "dagshub.init(repo_owner='ekvirika', repo_name='HousePrices', mlflow=True)"
   ]
  },
  {
   "cell_type": "markdown",
   "metadata": {},
   "source": [
    "# Import pipeline"
   ]
  },
  {
   "cell_type": "code",
   "execution_count": 5,
   "metadata": {
    "execution": {
     "iopub.execute_input": "2025-04-11T11:17:57.161811Z",
     "iopub.status.busy": "2025-04-11T11:17:57.161471Z",
     "iopub.status.idle": "2025-04-11T11:18:01.690008Z",
     "shell.execute_reply": "2025-04-11T11:18:01.689033Z",
     "shell.execute_reply.started": "2025-04-11T11:17:57.161782Z"
    },
    "trusted": true
   },
   "outputs": [],
   "source": [
    "import sys\n",
    "sys.path.append(\"/kaggle/input/preprocessing-classes\")\n",
    "\n",
    "from preprocessing_utils import * "
   ]
  },
  {
   "cell_type": "code",
   "execution_count": 8,
   "metadata": {
    "execution": {
     "iopub.execute_input": "2025-04-11T11:18:57.187251Z",
     "iopub.status.busy": "2025-04-11T11:18:57.186822Z",
     "iopub.status.idle": "2025-04-11T11:18:57.849220Z",
     "shell.execute_reply": "2025-04-11T11:18:57.848125Z",
     "shell.execute_reply.started": "2025-04-11T11:18:57.187207Z"
    },
    "trusted": true
   },
   "outputs": [
    {
     "name": "stdout",
     "output_type": "stream",
     "text": [
      "<class 'sklearn.pipeline.Pipeline'>\n",
      "Pipeline(steps=[('data_cleaner',\n",
      "                 DataCleaner(null_threshold=0.9, target_column='SalePrice')),\n",
      "                ('null_handler', NullHandler(null_threshold=0.9)),\n",
      "                ('one_hot_encoder', SelectiveOneHotEncoder(num_unique=3)),\n",
      "                ('woe_encoder', WoECategoricalEncoder()),\n",
      "                ('correlation_filter',\n",
      "                 CorrelationFilter(target_col='SalePrice'))])\n"
     ]
    }
   ],
   "source": [
    "import joblib\n",
    "\n",
    "# Path to the uploaded pipeline\n",
    "pipeline_path = \"/kaggle/input/pipeline/preprocessing_pipeline_final (1).pkl\"\n",
    "\n",
    "# Load the pipeline\n",
    "pipeline = joblib.load(pipeline_path)\n",
    "print(type(pipeline))\n",
    "print(pipeline)\n"
   ]
  },
  {
   "cell_type": "markdown",
   "metadata": {},
   "source": [
    "# Transform testset"
   ]
  },
  {
   "cell_type": "code",
   "execution_count": 28,
   "metadata": {
    "execution": {
     "iopub.execute_input": "2025-04-11T11:42:18.009565Z",
     "iopub.status.busy": "2025-04-11T11:42:18.008943Z",
     "iopub.status.idle": "2025-04-11T11:42:18.040720Z",
     "shell.execute_reply": "2025-04-11T11:42:18.039736Z",
     "shell.execute_reply.started": "2025-04-11T11:42:18.009535Z"
    },
    "trusted": true
   },
   "outputs": [],
   "source": [
    "X_test = pd.read_csv('/kaggle/input/house-prices-advanced-regression-techniques/test.csv')\n",
    "original_ids = X_test['Id'].copy()  # Store original IDs before dropping"
   ]
  },
  {
   "cell_type": "code",
   "execution_count": 29,
   "metadata": {
    "execution": {
     "iopub.execute_input": "2025-04-11T11:42:20.101359Z",
     "iopub.status.busy": "2025-04-11T11:42:20.100988Z",
     "iopub.status.idle": "2025-04-11T11:42:20.120834Z",
     "shell.execute_reply": "2025-04-11T11:42:20.119970Z",
     "shell.execute_reply.started": "2025-04-11T11:42:20.101310Z"
    },
    "trusted": true
   },
   "outputs": [
    {
     "data": {
      "text/html": [
       "<div>\n",
       "<style scoped>\n",
       "    .dataframe tbody tr th:only-of-type {\n",
       "        vertical-align: middle;\n",
       "    }\n",
       "\n",
       "    .dataframe tbody tr th {\n",
       "        vertical-align: top;\n",
       "    }\n",
       "\n",
       "    .dataframe thead th {\n",
       "        text-align: right;\n",
       "    }\n",
       "</style>\n",
       "<table border=\"1\" class=\"dataframe\">\n",
       "  <thead>\n",
       "    <tr style=\"text-align: right;\">\n",
       "      <th></th>\n",
       "      <th>MSSubClass</th>\n",
       "      <th>MSZoning</th>\n",
       "      <th>LotFrontage</th>\n",
       "      <th>LotArea</th>\n",
       "      <th>Street</th>\n",
       "      <th>Alley</th>\n",
       "      <th>LotShape</th>\n",
       "      <th>LandContour</th>\n",
       "      <th>Utilities</th>\n",
       "      <th>LotConfig</th>\n",
       "      <th>...</th>\n",
       "      <th>ScreenPorch</th>\n",
       "      <th>PoolArea</th>\n",
       "      <th>PoolQC</th>\n",
       "      <th>Fence</th>\n",
       "      <th>MiscFeature</th>\n",
       "      <th>MiscVal</th>\n",
       "      <th>MoSold</th>\n",
       "      <th>YrSold</th>\n",
       "      <th>SaleType</th>\n",
       "      <th>SaleCondition</th>\n",
       "    </tr>\n",
       "  </thead>\n",
       "  <tbody>\n",
       "    <tr>\n",
       "      <th>0</th>\n",
       "      <td>20</td>\n",
       "      <td>RH</td>\n",
       "      <td>80.0</td>\n",
       "      <td>11622</td>\n",
       "      <td>Pave</td>\n",
       "      <td>NaN</td>\n",
       "      <td>Reg</td>\n",
       "      <td>Lvl</td>\n",
       "      <td>AllPub</td>\n",
       "      <td>Inside</td>\n",
       "      <td>...</td>\n",
       "      <td>120</td>\n",
       "      <td>0</td>\n",
       "      <td>NaN</td>\n",
       "      <td>MnPrv</td>\n",
       "      <td>NaN</td>\n",
       "      <td>0</td>\n",
       "      <td>6</td>\n",
       "      <td>2010</td>\n",
       "      <td>WD</td>\n",
       "      <td>Normal</td>\n",
       "    </tr>\n",
       "    <tr>\n",
       "      <th>1</th>\n",
       "      <td>20</td>\n",
       "      <td>RL</td>\n",
       "      <td>81.0</td>\n",
       "      <td>14267</td>\n",
       "      <td>Pave</td>\n",
       "      <td>NaN</td>\n",
       "      <td>IR1</td>\n",
       "      <td>Lvl</td>\n",
       "      <td>AllPub</td>\n",
       "      <td>Corner</td>\n",
       "      <td>...</td>\n",
       "      <td>0</td>\n",
       "      <td>0</td>\n",
       "      <td>NaN</td>\n",
       "      <td>NaN</td>\n",
       "      <td>Gar2</td>\n",
       "      <td>12500</td>\n",
       "      <td>6</td>\n",
       "      <td>2010</td>\n",
       "      <td>WD</td>\n",
       "      <td>Normal</td>\n",
       "    </tr>\n",
       "    <tr>\n",
       "      <th>2</th>\n",
       "      <td>60</td>\n",
       "      <td>RL</td>\n",
       "      <td>74.0</td>\n",
       "      <td>13830</td>\n",
       "      <td>Pave</td>\n",
       "      <td>NaN</td>\n",
       "      <td>IR1</td>\n",
       "      <td>Lvl</td>\n",
       "      <td>AllPub</td>\n",
       "      <td>Inside</td>\n",
       "      <td>...</td>\n",
       "      <td>0</td>\n",
       "      <td>0</td>\n",
       "      <td>NaN</td>\n",
       "      <td>MnPrv</td>\n",
       "      <td>NaN</td>\n",
       "      <td>0</td>\n",
       "      <td>3</td>\n",
       "      <td>2010</td>\n",
       "      <td>WD</td>\n",
       "      <td>Normal</td>\n",
       "    </tr>\n",
       "    <tr>\n",
       "      <th>3</th>\n",
       "      <td>60</td>\n",
       "      <td>RL</td>\n",
       "      <td>78.0</td>\n",
       "      <td>9978</td>\n",
       "      <td>Pave</td>\n",
       "      <td>NaN</td>\n",
       "      <td>IR1</td>\n",
       "      <td>Lvl</td>\n",
       "      <td>AllPub</td>\n",
       "      <td>Inside</td>\n",
       "      <td>...</td>\n",
       "      <td>0</td>\n",
       "      <td>0</td>\n",
       "      <td>NaN</td>\n",
       "      <td>NaN</td>\n",
       "      <td>NaN</td>\n",
       "      <td>0</td>\n",
       "      <td>6</td>\n",
       "      <td>2010</td>\n",
       "      <td>WD</td>\n",
       "      <td>Normal</td>\n",
       "    </tr>\n",
       "    <tr>\n",
       "      <th>4</th>\n",
       "      <td>120</td>\n",
       "      <td>RL</td>\n",
       "      <td>43.0</td>\n",
       "      <td>5005</td>\n",
       "      <td>Pave</td>\n",
       "      <td>NaN</td>\n",
       "      <td>IR1</td>\n",
       "      <td>HLS</td>\n",
       "      <td>AllPub</td>\n",
       "      <td>Inside</td>\n",
       "      <td>...</td>\n",
       "      <td>144</td>\n",
       "      <td>0</td>\n",
       "      <td>NaN</td>\n",
       "      <td>NaN</td>\n",
       "      <td>NaN</td>\n",
       "      <td>0</td>\n",
       "      <td>1</td>\n",
       "      <td>2010</td>\n",
       "      <td>WD</td>\n",
       "      <td>Normal</td>\n",
       "    </tr>\n",
       "  </tbody>\n",
       "</table>\n",
       "<p>5 rows × 79 columns</p>\n",
       "</div>"
      ],
      "text/plain": [
       "   MSSubClass MSZoning  LotFrontage  LotArea Street Alley LotShape  \\\n",
       "0          20       RH         80.0    11622   Pave   NaN      Reg   \n",
       "1          20       RL         81.0    14267   Pave   NaN      IR1   \n",
       "2          60       RL         74.0    13830   Pave   NaN      IR1   \n",
       "3          60       RL         78.0     9978   Pave   NaN      IR1   \n",
       "4         120       RL         43.0     5005   Pave   NaN      IR1   \n",
       "\n",
       "  LandContour Utilities LotConfig  ... ScreenPorch PoolArea PoolQC  Fence  \\\n",
       "0         Lvl    AllPub    Inside  ...         120        0    NaN  MnPrv   \n",
       "1         Lvl    AllPub    Corner  ...           0        0    NaN    NaN   \n",
       "2         Lvl    AllPub    Inside  ...           0        0    NaN  MnPrv   \n",
       "3         Lvl    AllPub    Inside  ...           0        0    NaN    NaN   \n",
       "4         HLS    AllPub    Inside  ...         144        0    NaN    NaN   \n",
       "\n",
       "  MiscFeature MiscVal  MoSold  YrSold  SaleType  SaleCondition  \n",
       "0         NaN       0       6    2010        WD         Normal  \n",
       "1        Gar2   12500       6    2010        WD         Normal  \n",
       "2         NaN       0       3    2010        WD         Normal  \n",
       "3         NaN       0       6    2010        WD         Normal  \n",
       "4         NaN       0       1    2010        WD         Normal  \n",
       "\n",
       "[5 rows x 79 columns]"
      ]
     },
     "execution_count": 29,
     "metadata": {},
     "output_type": "execute_result"
    }
   ],
   "source": [
    "X_test.drop(columns='Id', inplace=True)\n",
    "X_test.head()"
   ]
  },
  {
   "cell_type": "code",
   "execution_count": 24,
   "metadata": {
    "collapsed": true,
    "execution": {
     "iopub.execute_input": "2025-04-11T11:40:13.076811Z",
     "iopub.status.busy": "2025-04-11T11:40:13.076451Z",
     "iopub.status.idle": "2025-04-11T11:40:13.173015Z",
     "shell.execute_reply": "2025-04-11T11:40:13.171849Z",
     "shell.execute_reply.started": "2025-04-11T11:40:13.076785Z"
    },
    "jupyter": {
     "outputs_hidden": true
    },
    "trusted": true
   },
   "outputs": [
    {
     "name": "stdout",
     "output_type": "stream",
     "text": [
      "Transforming dataset with DataCleaner...\n",
      "Dropping columns: ['RoofMatl', 'KitchenAbvGr', 'MiscFeature', 'Street', 'PoolArea', 'GarageCond', 'Utilities', 'Condition2', 'LowQualFinSF', '3SsnPorch', 'Heating', 'MiscVal', 'PoolQC', 'GarageQual', 'Alley']\n",
      "Shape after cleaning: (1459, 65)\n",
      "Transforming dataset with NullHandler...\n",
      "Filling column 'MSSubClass' with: 50.0\n",
      "Filling column 'LotFrontage' with: 70.0\n",
      "Filling column 'LotArea' with: 9600.0\n",
      "Filling column 'OverallQual' with: 6.0\n",
      "Filling column 'OverallCond' with: 5.0\n",
      "Filling column 'YearBuilt' with: 1972.0\n",
      "Filling column 'YearRemodAdd' with: 1994.0\n",
      "Filling column 'MasVnrArea' with: 0.0\n",
      "Filling column 'BsmtFinSF1' with: 384.5\n",
      "Filling column 'BsmtFinSF2' with: 0.0\n",
      "Filling column 'BsmtUnfSF' with: 480.0\n",
      "Filling column 'TotalBsmtSF' with: 997.5\n",
      "Filling column '1stFlrSF' with: 1095.0\n",
      "Filling column '2ndFlrSF' with: 0.0\n",
      "Filling column 'GrLivArea' with: 1473.0\n",
      "Filling column 'BsmtFullBath' with: 0.0\n",
      "Filling column 'BsmtHalfBath' with: 0.0\n",
      "Filling column 'FullBath' with: 2.0\n",
      "Filling column 'HalfBath' with: 0.0\n",
      "Filling column 'BedroomAbvGr' with: 3.0\n",
      "Filling column 'TotRmsAbvGrd' with: 6.0\n",
      "Filling column 'Fireplaces' with: 1.0\n",
      "Filling column 'GarageYrBlt' with: 1980.0\n",
      "Filling column 'GarageCars' with: 2.0\n",
      "Filling column 'GarageArea' with: 482.0\n",
      "Filling column 'WoodDeckSF' with: 0.0\n",
      "Filling column 'OpenPorchSF' with: 27.0\n",
      "Filling column 'EnclosedPorch' with: 0.0\n",
      "Filling column 'ScreenPorch' with: 0.0\n",
      "Filling column 'MoSold' with: 6.0\n",
      "Filling column 'YrSold' with: 2008.0\n",
      "Filling column 'MSZoning' with: RL\n",
      "Filling column 'LotShape' with: Reg\n",
      "Filling column 'LandContour' with: Lvl\n",
      "Filling column 'LotConfig' with: Inside\n",
      "Filling column 'LandSlope' with: Gtl\n",
      "Filling column 'Neighborhood' with: NAmes\n",
      "Filling column 'Condition1' with: Norm\n",
      "Filling column 'BldgType' with: 1Fam\n",
      "Filling column 'HouseStyle' with: 1Story\n",
      "Filling column 'RoofStyle' with: Gable\n",
      "Filling column 'Exterior1st' with: VinylSd\n",
      "Filling column 'Exterior2nd' with: VinylSd\n",
      "Filling column 'MasVnrType' with: BrkFace\n",
      "Filling column 'ExterQual' with: TA\n",
      "Filling column 'ExterCond' with: TA\n",
      "Filling column 'Foundation' with: PConc\n",
      "Filling column 'BsmtQual' with: TA\n",
      "Filling column 'BsmtCond' with: TA\n",
      "Filling column 'BsmtExposure' with: No\n",
      "Filling column 'BsmtFinType1' with: Unf\n",
      "Filling column 'BsmtFinType2' with: Unf\n",
      "Filling column 'HeatingQC' with: Ex\n",
      "Filling column 'CentralAir' with: Y\n",
      "Filling column 'Electrical' with: SBrkr\n",
      "Filling column 'KitchenQual' with: TA\n",
      "Filling column 'Functional' with: Typ\n",
      "Filling column 'FireplaceQu' with: Gd\n",
      "Filling column 'GarageType' with: Attchd\n",
      "Filling column 'GarageFinish' with: Unf\n",
      "Filling column 'PavedDrive' with: Y\n",
      "Filling column 'Fence' with: MnPrv\n",
      "Filling column 'SaleType' with: WD\n",
      "Filling column 'SaleCondition' with: Normal\n",
      "Shape after null handling: (1459, 64)\n",
      "Transforming data with SelectiveOneHotEncoder...\n",
      "Filling missing values in 'LandSlope' with: Gtl\n",
      "Filling missing values in 'MasVnrType' with: BrkFace\n",
      "Filling missing values in 'CentralAir' with: Y\n",
      "Filling missing values in 'GarageFinish' with: Unf\n",
      "Filling missing values in 'PavedDrive' with: Y\n",
      "One-hot encoded values:\n",
      "    LandSlope_Gtl  LandSlope_Mod  LandSlope_Sev  MasVnrType_BrkCmn  \\\n",
      "0            1.0            0.0            0.0                0.0   \n",
      "1            1.0            0.0            0.0                0.0   \n",
      "2            1.0            0.0            0.0                0.0   \n",
      "3            1.0            0.0            0.0                0.0   \n",
      "4            1.0            0.0            0.0                0.0   \n",
      "\n",
      "   MasVnrType_BrkFace  MasVnrType_Stone  CentralAir_N  CentralAir_Y  \\\n",
      "0                 1.0               0.0           0.0           1.0   \n",
      "1                 1.0               0.0           0.0           1.0   \n",
      "2                 1.0               0.0           0.0           1.0   \n",
      "3                 1.0               0.0           0.0           1.0   \n",
      "4                 1.0               0.0           0.0           1.0   \n",
      "\n",
      "   GarageFinish_Fin  GarageFinish_RFn  GarageFinish_Unf  PavedDrive_N  \\\n",
      "0               0.0               0.0               1.0           0.0   \n",
      "1               0.0               0.0               1.0           0.0   \n",
      "2               1.0               0.0               0.0           0.0   \n",
      "3               1.0               0.0               0.0           0.0   \n",
      "4               0.0               1.0               0.0           0.0   \n",
      "\n",
      "   PavedDrive_P  PavedDrive_Y  \n",
      "0           0.0           1.0  \n",
      "1           0.0           1.0  \n",
      "2           0.0           1.0  \n",
      "3           0.0           1.0  \n",
      "4           0.0           1.0  \n",
      "Final transformed dataframe with shape (1459, 73)\n",
      "\n",
      "[CorrelationFilter] Transforming...\n",
      "Dropping features: ['1stFlrSF', 'LandSlope_Mod', 'SaleCondition', 'PavedDrive_N', 'Exterior2nd', 'TotRmsAbvGrd', 'MasVnrType_BrkFace', 'GarageArea', 'CentralAir_Y']\n"
     ]
    }
   ],
   "source": [
    "X_test_processed = pipeline.transform(X_test)\n"
   ]
  },
  {
   "cell_type": "code",
   "execution_count": 25,
   "metadata": {
    "execution": {
     "iopub.execute_input": "2025-04-11T11:40:16.086919Z",
     "iopub.status.busy": "2025-04-11T11:40:16.086562Z",
     "iopub.status.idle": "2025-04-11T11:40:16.092935Z",
     "shell.execute_reply": "2025-04-11T11:40:16.091983Z",
     "shell.execute_reply.started": "2025-04-11T11:40:16.086898Z"
    },
    "trusted": true
   },
   "outputs": [
    {
     "data": {
      "text/plain": [
       "(1459, 64)"
      ]
     },
     "execution_count": 25,
     "metadata": {},
     "output_type": "execute_result"
    }
   ],
   "source": [
    "X_test_processed.shape"
   ]
  },
  {
   "cell_type": "markdown",
   "metadata": {},
   "source": [
    "# Load Model"
   ]
  },
  {
   "cell_type": "code",
   "execution_count": 45,
   "metadata": {
    "execution": {
     "iopub.execute_input": "2025-04-11T12:30:01.807534Z",
     "iopub.status.busy": "2025-04-11T12:30:01.807135Z",
     "iopub.status.idle": "2025-04-11T12:30:03.294993Z",
     "shell.execute_reply": "2025-04-11T12:30:03.294074Z",
     "shell.execute_reply.started": "2025-04-11T12:30:01.807506Z"
    },
    "trusted": true
   },
   "outputs": [
    {
     "data": {
      "application/vnd.jupyter.widget-view+json": {
       "model_id": "5c5fe0bc72d243de9f1fd99050443899",
       "version_major": 2,
       "version_minor": 0
      },
      "text/plain": [
       "Downloading artifacts:   0%|          | 0/5 [00:00<?, ?it/s]"
      ]
     },
     "metadata": {},
     "output_type": "display_data"
    },
    {
     "name": "stderr",
     "output_type": "stream",
     "text": [
      "2025/04/11 12:30:03 WARNING mlflow.utils.requirements_utils: Detected one or more mismatches between the model's dependencies and the current Python environment:\n",
      " - cloudpickle (current: 3.1.1, required: cloudpickle==3.1.0)\n",
      " - psutil (current: 7.0.0, required: psutil==5.9.5)\n",
      " - scipy (current: 1.15.2, required: scipy==1.13.1)\n",
      "To fix the mismatches, call `mlflow.pyfunc.get_model_dependencies(model_uri)` to fetch the model's environment and install dependencies using the resulting environment file.\n",
      "2025/04/11 12:30:03 WARNING mlflow.pyfunc: The version of Python that the model was saved in, `Python 3.10.12`, differs from the version of Python that is currently running, `Python 3.11.11`, and may be incompatible\n"
     ]
    }
   ],
   "source": [
    "import mlflow\n",
    "logged_model = 'runs:/7029fa464d80457a8948ceeb5a505c12/model'\n",
    "\n",
    "# Load model as a PyFuncModel.\n",
    "loaded_model = mlflow.pyfunc.load_model(logged_model)"
   ]
  },
  {
   "cell_type": "code",
   "execution_count": 46,
   "metadata": {
    "execution": {
     "iopub.execute_input": "2025-04-11T12:30:03.296618Z",
     "iopub.status.busy": "2025-04-11T12:30:03.296282Z",
     "iopub.status.idle": "2025-04-11T12:30:03.327263Z",
     "shell.execute_reply": "2025-04-11T12:30:03.326146Z",
     "shell.execute_reply.started": "2025-04-11T12:30:03.296595Z"
    },
    "trusted": true
   },
   "outputs": [],
   "source": [
    "# Make predictions\n",
    "predictions = model.predict(X_test_processed)\n",
    "pd.DataFrame({\"Id\": X_test.index, \"SalePrice\": predictions}).to_csv(\"predictions.csv\", index=False)"
   ]
  },
  {
   "cell_type": "code",
   "execution_count": 47,
   "metadata": {
    "execution": {
     "iopub.execute_input": "2025-04-11T12:30:05.472077Z",
     "iopub.status.busy": "2025-04-11T12:30:05.471772Z",
     "iopub.status.idle": "2025-04-11T12:30:05.477438Z",
     "shell.execute_reply": "2025-04-11T12:30:05.476603Z",
     "shell.execute_reply.started": "2025-04-11T12:30:05.472057Z"
    },
    "trusted": true
   },
   "outputs": [],
   "source": [
    "submission_df = pd.DataFrame({\n",
    "    \"Id\": original_ids,  # Use the original IDs, not the indexes\n",
    "    \"SalePrice\": predictions\n",
    "})"
   ]
  },
  {
   "cell_type": "code",
   "execution_count": 48,
   "metadata": {
    "execution": {
     "iopub.execute_input": "2025-04-11T12:30:07.234393Z",
     "iopub.status.busy": "2025-04-11T12:30:07.233971Z",
     "iopub.status.idle": "2025-04-11T12:30:07.248222Z",
     "shell.execute_reply": "2025-04-11T12:30:07.247177Z",
     "shell.execute_reply.started": "2025-04-11T12:30:07.234358Z"
    },
    "trusted": true
   },
   "outputs": [
    {
     "name": "stdout",
     "output_type": "stream",
     "text": [
      "Submission shape: (1459, 2)\n",
      "ID range: 1461 to 2919\n"
     ]
    }
   ],
   "source": [
    "submission_df.to_csv(\"predictions.csv\", index=False)\n",
    "\n",
    "# Verify submission format\n",
    "print(f\"Submission shape: {submission_df.shape}\")\n",
    "print(f\"ID range: {submission_df['Id'].min()} to {submission_df['Id'].max()}\")"
   ]
  }
 ],
 "metadata": {
  "kaggle": {
   "accelerator": "none",
   "dataSources": [
    {
     "databundleVersionId": 868283,
     "isSourceIdPinned": false,
     "sourceId": 5407,
     "sourceType": "competition"
    },
    {
     "datasetId": 7114802,
     "sourceId": 11366440,
     "sourceType": "datasetVersion"
    },
    {
     "datasetId": 7114796,
     "sourceId": 11366432,
     "sourceType": "datasetVersion"
    }
   ],
   "dockerImageVersionId": 31012,
   "isGpuEnabled": false,
   "isInternetEnabled": true,
   "language": "python",
   "sourceType": "notebook"
  },
  "kernelspec": {
   "display_name": "Python 3",
   "language": "python",
   "name": "python3"
  },
  "language_info": {
   "codemirror_mode": {
    "name": "ipython",
    "version": 3
   },
   "file_extension": ".py",
   "mimetype": "text/x-python",
   "name": "python",
   "nbconvert_exporter": "python",
   "pygments_lexer": "ipython3",
   "version": "3.12.0"
  }
 },
 "nbformat": 4,
 "nbformat_minor": 4
}
